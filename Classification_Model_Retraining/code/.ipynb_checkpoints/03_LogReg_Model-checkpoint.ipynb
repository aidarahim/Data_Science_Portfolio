{
 "cells": [
  {
   "cell_type": "markdown",
   "metadata": {},
   "source": [
    "# Notebook 03: Logistic Regression Model"
   ]
  },
  {
   "cell_type": "markdown",
   "metadata": {},
   "source": [
    "# Introduction\n",
    "\n",
    "In this notebook, the subreddit posts are tokenized and different Logistic Regression models are built to predict the origin of each post, using training and testing sets, and also including cross-validation. Model performance is compared against the baseline model and optimized using different transformers and hyperparameters. The model is considered successful if it performs better than the baseline model.\n",
    "\n",
    "The best model (85.2% testing accuracy) is then fit to the entire dataset, and pickled for use on posts scraped from 17 subsequent months. In other words, these 2000 posts are treated as the training set and posts from the other 17 subsequent months are treated as the test sets (in notebook 5). The model is explored through a confusion matrix and by looking at the misclassified posts. No obvious patterns can be discerned, that might be more descriptive of the reasons for misclassification.\n",
    "\n",
    "A summary of observations is listed at the end of this notebook.\n",
    "\n",
    "## Contents:\n",
    "\n",
    "1. Evaluate models\n",
    "\n",
    "    1.1 Self-selected model\n",
    "    \n",
    "    1.2 Stopword necessary?\n",
    "    \n",
    "    1.3 Pipeline: CountVectorizer, LogisticRegression\n",
    "    \n",
    "    1.4 Pipeline: TfidfVectorizer, LogisticRegression\n",
    "    \n",
    "    1.5 Pipeline: TfidfVectorizer, LogisticRegressionCV\n",
    "2. Explore model behavior\n",
    "\n",
    "    2.1 Plot confusion matrix\n",
    "    \n",
    "    2.2 What types of posts are misclassified\n",
    "    \n",
    "    2.3 EDA on post lengths (misclassified posts)\n",
    "    \n",
    "    2.4 Most common words (misclassified posts)\n",
    "    \n",
    "    2.5 Most common words across subreddits (misclassified posts)\n",
    "    \n",
    "    2.6 Most common bigrams (misclassified posts)\n",
    "    \n",
    "    2.7 Most common trigrams (misclassified posts)\n",
    "3. Summary"
   ]
  },
  {
   "cell_type": "code",
   "execution_count": 1,
   "metadata": {},
   "outputs": [],
   "source": [
    "# imports\n",
    "import pandas as pd\n",
    "import numpy as np\n",
    "import seaborn as sns\n",
    "import matplotlib.pyplot as plt\n",
    "\n",
    "import pickle\n",
    "\n",
    "from sklearn.model_selection import train_test_split, GridSearchCV\n",
    "from sklearn.pipeline import Pipeline\n",
    "from sklearn.linear_model import LogisticRegression, LogisticRegressionCV\n",
    "from sklearn.metrics import confusion_matrix, plot_confusion_matrix, classification_report\n",
    "# Import CountVectorizer and TFIDFVectorizer from feature_extraction.text.\n",
    "from sklearn.feature_extraction.text import CountVectorizer, TfidfVectorizer\n",
    "\n",
    "# this setting widens how many characters pandas will display in a column:\n",
    "pd.options.display.max_colwidth = 350"
   ]
  },
  {
   "cell_type": "code",
   "execution_count": 2,
   "metadata": {},
   "outputs": [],
   "source": [
    "df = pd.read_csv('../data/df_model.csv')"
   ]
  },
  {
   "cell_type": "markdown",
   "metadata": {},
   "source": [
    "## 1. Evaluate Models"
   ]
  },
  {
   "cell_type": "code",
   "execution_count": 3,
   "metadata": {},
   "outputs": [],
   "source": [
    "# create a model based just on 'title' - there are lots of words in 'title', and some 'selftext' is empty\n",
    "X = df['title']\n",
    "y = df['subreddit']"
   ]
  },
  {
   "cell_type": "code",
   "execution_count": 4,
   "metadata": {},
   "outputs": [],
   "source": [
    "# Define training and testing sets\n",
    "# Choose not to explicitly stratify on y since dataset is pretty evenly split\n",
    "\n",
    "X_train, X_test, y_train, y_test = train_test_split(X,\n",
    "                                                    y,\n",
    "                                                    test_size=0.25,\n",
    "                                                    random_state=42)"
   ]
  },
  {
   "cell_type": "markdown",
   "metadata": {},
   "source": [
    "### 1.1 Self-selected model (model 1)"
   ]
  },
  {
   "cell_type": "markdown",
   "metadata": {},
   "source": [
    "If I had just 1 guess, this is the model I would use: TfidVectorizer (because words are weighted), 'lpt' as a stopword, 'liblinear' solver (because we had seen that this performed better compared with 'lbfgs' with Jane Austen/Edgar Allen Poe writings)."
   ]
  },
  {
   "cell_type": "code",
   "execution_count": 5,
   "metadata": {},
   "outputs": [
    {
     "data": {
      "text/plain": [
       "(0.9255247122545701, 0.8519269776876268)"
      ]
     },
     "execution_count": 5,
     "metadata": {},
     "output_type": "execute_result"
    }
   ],
   "source": [
    "tf1 = TfidfVectorizer(min_df=2, stop_words=['lpt'])\n",
    "tf1.fit(X_train)\n",
    "\n",
    "X_train_tf1 = tf1.transform(X_train)\n",
    "X_test_tf1 =  tf1.transform(X_test)\n",
    "\n",
    "logreg1 = LogisticRegression(solver='liblinear')\n",
    "logreg1.fit(X_train_tf1, y_train)\n",
    "\n",
    "logreg1.score(X_train_tf1, y_train), logreg1.score(X_test_tf1, y_test)"
   ]
  },
  {
   "cell_type": "markdown",
   "metadata": {},
   "source": [
    "The model is overfit, but at 85%, the accuracy on the testing data is not that bad. Definitely better than 50% (which would be the baseline accuracy from randomly guessing)."
   ]
  },
  {
   "cell_type": "code",
   "execution_count": 6,
   "metadata": {},
   "outputs": [
    {
     "data": {
      "text/html": [
       "<div>\n",
       "<style scoped>\n",
       "    .dataframe tbody tr th:only-of-type {\n",
       "        vertical-align: middle;\n",
       "    }\n",
       "\n",
       "    .dataframe tbody tr th {\n",
       "        vertical-align: top;\n",
       "    }\n",
       "\n",
       "    .dataframe thead th {\n",
       "        text-align: right;\n",
       "    }\n",
       "</style>\n",
       "<table border=\"1\" class=\"dataframe\">\n",
       "  <thead>\n",
       "    <tr style=\"text-align: right;\">\n",
       "      <th></th>\n",
       "      <th>Coefficient</th>\n",
       "    </tr>\n",
       "  </thead>\n",
       "  <tbody>\n",
       "    <tr>\n",
       "      <th>your</th>\n",
       "      <td>63.113303</td>\n",
       "    </tr>\n",
       "    <tr>\n",
       "      <th>don</th>\n",
       "      <td>11.590973</td>\n",
       "    </tr>\n",
       "    <tr>\n",
       "      <th>use</th>\n",
       "      <td>7.254029</td>\n",
       "    </tr>\n",
       "    <tr>\n",
       "      <th>keep</th>\n",
       "      <td>5.896551</td>\n",
       "    </tr>\n",
       "    <tr>\n",
       "      <th>for</th>\n",
       "      <td>5.504073</td>\n",
       "    </tr>\n",
       "    <tr>\n",
       "      <th>and</th>\n",
       "      <td>5.107883</td>\n",
       "    </tr>\n",
       "    <tr>\n",
       "      <th>water</th>\n",
       "      <td>4.819272</td>\n",
       "    </tr>\n",
       "    <tr>\n",
       "      <th>to</th>\n",
       "      <td>4.456827</td>\n",
       "    </tr>\n",
       "    <tr>\n",
       "      <th>you</th>\n",
       "      <td>4.343612</td>\n",
       "    </tr>\n",
       "    <tr>\n",
       "      <th>take</th>\n",
       "      <td>4.169088</td>\n",
       "    </tr>\n",
       "    <tr>\n",
       "      <th>want</th>\n",
       "      <td>3.664069</td>\n",
       "    </tr>\n",
       "    <tr>\n",
       "      <th>request</th>\n",
       "      <td>3.373811</td>\n",
       "    </tr>\n",
       "    <tr>\n",
       "      <th>gift</th>\n",
       "      <td>3.350095</td>\n",
       "    </tr>\n",
       "    <tr>\n",
       "      <th>how</th>\n",
       "      <td>3.338546</td>\n",
       "    </tr>\n",
       "    <tr>\n",
       "      <th>free</th>\n",
       "      <td>3.322462</td>\n",
       "    </tr>\n",
       "  </tbody>\n",
       "</table>\n",
       "</div>"
      ],
      "text/plain": [
       "         Coefficient\n",
       "your       63.113303\n",
       "don        11.590973\n",
       "use         7.254029\n",
       "keep        5.896551\n",
       "for         5.504073\n",
       "and         5.107883\n",
       "water       4.819272\n",
       "to          4.456827\n",
       "you         4.343612\n",
       "take        4.169088\n",
       "want        3.664069\n",
       "request     3.373811\n",
       "gift        3.350095\n",
       "how         3.338546\n",
       "free        3.322462"
      ]
     },
     "execution_count": 6,
     "metadata": {},
     "output_type": "execute_result"
    }
   ],
   "source": [
    "coeffs1 = np.exp(logreg1.coef_)\n",
    "# look at coefficients\n",
    "pd.DataFrame(coeffs1.T, index=[tf1.get_feature_names()], columns=['Coefficient']).sort_values(by='Coefficient', ascending=False).head(15)"
   ]
  },
  {
   "cell_type": "markdown",
   "metadata": {},
   "source": [
    "Looks like 'your' is most important followed by 'don't'. Each unit increase in 'your' means that the sentence is 63 times more likely to be from the LifeProTips subreddit. Each unit increase in 'don't' means that the sentence is 12 times more likely to be from the LifeProTips subreddit. "
   ]
  },
  {
   "cell_type": "markdown",
   "metadata": {},
   "source": [
    "### 1.2 See if stop_words = ['lpt'] is actually necessary (model 2)"
   ]
  },
  {
   "cell_type": "code",
   "execution_count": 7,
   "metadata": {},
   "outputs": [
    {
     "data": {
      "text/plain": [
       "(0.9546377792823291, 0.9026369168356998)"
      ]
     },
     "execution_count": 7,
     "metadata": {},
     "output_type": "execute_result"
    }
   ],
   "source": [
    "tf2 = TfidfVectorizer(min_df=2)\n",
    "tf2.fit(X_train)\n",
    "\n",
    "X_train_tf2 = tf2.transform(X_train)\n",
    "X_test_tf2 = tf2.transform(X_test)\n",
    "\n",
    "logreg2 = LogisticRegression(solver='liblinear')\n",
    "logreg2.fit(X_train_tf2, y_train)\n",
    "\n",
    "logreg2.score(X_train_tf2, y_train), logreg2.score(X_test_tf2, y_test)"
   ]
  },
  {
   "cell_type": "markdown",
   "metadata": {},
   "source": [
    "The model performance improved when 'lpt' is included i.e. it makes it easier for the model to classify posts. The model accuracy is not 100% because not all posts contain 'lpt'. Removing 'lpt' from consideration does reduce the accuracy of the model. Let's keep it as a stopword."
   ]
  },
  {
   "cell_type": "code",
   "execution_count": 8,
   "metadata": {},
   "outputs": [
    {
     "data": {
      "text/html": [
       "<div>\n",
       "<style scoped>\n",
       "    .dataframe tbody tr th:only-of-type {\n",
       "        vertical-align: middle;\n",
       "    }\n",
       "\n",
       "    .dataframe tbody tr th {\n",
       "        vertical-align: top;\n",
       "    }\n",
       "\n",
       "    .dataframe thead th {\n",
       "        text-align: right;\n",
       "    }\n",
       "</style>\n",
       "<table border=\"1\" class=\"dataframe\">\n",
       "  <thead>\n",
       "    <tr style=\"text-align: right;\">\n",
       "      <th></th>\n",
       "      <th>Coefficient</th>\n",
       "    </tr>\n",
       "  </thead>\n",
       "  <tbody>\n",
       "    <tr>\n",
       "      <th>lpt</th>\n",
       "      <td>25263.317371</td>\n",
       "    </tr>\n",
       "    <tr>\n",
       "      <th>your</th>\n",
       "      <td>36.908266</td>\n",
       "    </tr>\n",
       "    <tr>\n",
       "      <th>don</th>\n",
       "      <td>7.958257</td>\n",
       "    </tr>\n",
       "    <tr>\n",
       "      <th>for</th>\n",
       "      <td>5.224233</td>\n",
       "    </tr>\n",
       "    <tr>\n",
       "      <th>and</th>\n",
       "      <td>4.899053</td>\n",
       "    </tr>\n",
       "    <tr>\n",
       "      <th>use</th>\n",
       "      <td>4.879752</td>\n",
       "    </tr>\n",
       "    <tr>\n",
       "      <th>keep</th>\n",
       "      <td>4.400287</td>\n",
       "    </tr>\n",
       "    <tr>\n",
       "      <th>you</th>\n",
       "      <td>4.284331</td>\n",
       "    </tr>\n",
       "    <tr>\n",
       "      <th>water</th>\n",
       "      <td>4.194302</td>\n",
       "    </tr>\n",
       "    <tr>\n",
       "      <th>to</th>\n",
       "      <td>3.925406</td>\n",
       "    </tr>\n",
       "  </tbody>\n",
       "</table>\n",
       "</div>"
      ],
      "text/plain": [
       "        Coefficient\n",
       "lpt    25263.317371\n",
       "your      36.908266\n",
       "don        7.958257\n",
       "for        5.224233\n",
       "and        4.899053\n",
       "use        4.879752\n",
       "keep       4.400287\n",
       "you        4.284331\n",
       "water      4.194302\n",
       "to         3.925406"
      ]
     },
     "execution_count": 8,
     "metadata": {},
     "output_type": "execute_result"
    }
   ],
   "source": [
    "# look at coefficients\n",
    "coeffs2 = np.exp(logreg2.coef_)\n",
    "pd.DataFrame(coeffs2.T, index=[tf2.get_feature_names()], columns=['Coefficient']).sort_values(by='Coefficient', ascending=False).head(10)"
   ]
  },
  {
   "cell_type": "markdown",
   "metadata": {},
   "source": [
    "Obviously when we include 'lpt', it becomes the most important word upon which to classify. And its importance is tremendous! A 1-unit increase in 'LPT' means that the sentence is 25k times more likely to be from LifeProTips. The next 2 words show up in the same order of importance. The other 7 of the 10 most important words also show up in model 1, though not exactly in the same sequence."
   ]
  },
  {
   "cell_type": "markdown",
   "metadata": {},
   "source": [
    "### What happens with stopwords?\n",
    "\n",
    "If I include stopwords, how unbalanced can my model be before it approaches the accuracies obtained by using the stopword?"
   ]
  },
  {
   "cell_type": "code",
   "execution_count": 9,
   "metadata": {},
   "outputs": [],
   "source": [
    "LPT = pd.read_csv('../data/df_LifeProTips.csv')\n",
    "# create dataframe with all posts that contain 'LPT'\n",
    "LPT_positive = LPT[LPT['title'].str.contains('lpt', regex=False, case=False, na=False)]\n",
    "\n",
    "ST = pd.read_csv('../data/df_Showerthoughts.csv')\n",
    "\n",
    "accuracy_train = []\n",
    "accuracy_test = []\n",
    "df_shape = []\n",
    "\n",
    "for i in range(2,LPT_positive.shape[0],10):\n",
    "    lines = i\n",
    "    \n",
    "    # Randomly sample LPT, without replacement\n",
    "    LPTsub = LPT_positive.sample(n=int(lines), random_state=1, replace=False) # from ckd lab\n",
    "    \n",
    "    df = pd.concat([LPTsub, ST])\n",
    "    df.drop_duplicates(inplace=True)\n",
    "    df.reset_index(inplace=True)\n",
    "    df['subreddit'] = df['subreddit'].map({'LifeProTips':1, 'Showerthoughts':0})\n",
    "    df.drop(columns='index', inplace=True)\n",
    "    \n",
    "    df_shape.append(df.shape[0])\n",
    "\n",
    "    X = df['title']\n",
    "    y = df['subreddit']\n",
    "\n",
    "    X_train, X_test, y_train, y_test = train_test_split(X,\n",
    "                                                        y,\n",
    "                                                        test_size=0.25,\n",
    "                                                        random_state=42)\n",
    "\n",
    "    tf = TfidfVectorizer(min_df=2)\n",
    "    tf.fit(X_train)\n",
    "\n",
    "    X_train_tf = tf.transform(X_train)\n",
    "    X_test_tf = tf.transform(X_test)\n",
    "\n",
    "    logreg = LogisticRegression(solver='liblinear')\n",
    "    logreg.fit(X_train_tf, y_train)\n",
    "\n",
    "    accuracy_train.append(logreg.score(X_train_tf, y_train))\n",
    "    accuracy_test.append(logreg.score(X_test_tf, y_test))"
   ]
  },
  {
   "cell_type": "code",
   "execution_count": 10,
   "metadata": {},
   "outputs": [
    {
     "data": {
      "image/png": "[encoded data removed]",
      "text/plain": [
       "<Figure size 576x288 with 1 Axes>"
      ]
     },
     "metadata": {
      "needs_background": "light"
     },
     "output_type": "display_data"
    }
   ],
   "source": [
    "plt.figure(figsize=(8,4))\n",
    "plt.scatter(df_shape,accuracy_train,color='midnightblue')\n",
    "plt.scatter(df_shape,accuracy_test,color='cornflowerblue',marker='s')\n",
    "plt.plot([1000, 1700],[1, 0.5],color='slategray', linewidth=3, ls='--')\n",
    "plt.legend(['baseline','training','testing'],loc='lower right')\n",
    "plt.ylim([0.9, 1])\n",
    "plt.title('Accuracy')\n",
    "plt.xlabel('Dataframe size')\n",
    "plt.ylabel('Accuracy')\n",
    "plt.show()"
   ]
  },
  {
   "cell_type": "markdown",
   "metadata": {},
   "source": [
    "When 'lpt' is included in all the LifeProTips posts, the baseline model performs better than the Logistic Regression model up until ~10% LifeProTips composition as a portion of the whole sample. Beyond 10%, model accuracy keeps increasing, and is 98.8% (train) and 97.4% (test)."
   ]
  },
  {
   "cell_type": "markdown",
   "metadata": {},
   "source": [
    "### 1.3 Try pipeline with: CountVec, LogReg (model 3)\n",
    "\n",
    "Let's see if we can get a better model using the pipeline and iterating over various parameters and transformers."
   ]
  },
  {
   "cell_type": "code",
   "execution_count": 11,
   "metadata": {},
   "outputs": [],
   "source": [
    "df = pd.read_csv('../data/df_model.csv')\n",
    "X = df['title']\n",
    "y = df['subreddit']\n",
    "\n",
    "# Define training and testing sets\n",
    "# Choose not to explicitly stratify on y since dataset is pretty evenly split\n",
    "\n",
    "X_train, X_test, y_train, y_test = train_test_split(X,\n",
    "                                                    y,\n",
    "                                                    test_size=0.25,\n",
    "                                                    random_state=42)"
   ]
  },
  {
   "cell_type": "code",
   "execution_count": 12,
   "metadata": {},
   "outputs": [],
   "source": [
    "# use countvec, LogisticRegression\n",
    "\n",
    "pipe3 = Pipeline([\n",
    "    ('cov', CountVectorizer()),\n",
    "    ('logreg', LogisticRegression(solver='liblinear'))\n",
    "])\n",
    "\n",
    "# Search over the following values of hyperparameters:\n",
    "# Maximum number of features fit: 2000, 3000, 4000, 5000, None\n",
    "# Minimum number of documents needed to include token: 2, 3\n",
    "# Maximum number of documents needed to include token: 90%, 95%\n",
    "# Check (individual tokens) and also check (individual tokens and 2-grams).\n",
    "\n",
    "pipe_params3 = {\n",
    "    'cov__stop_words': [['lpt']],\n",
    "    'cov__max_features': [2000, 3000, 4000, 5000, None],\n",
    "    'cov__min_df': [2, 3],\n",
    "    'cov__max_df': [0.9, 0.95],\n",
    "    'cov__ngram_range': [(1,1), (1,2),(2,2)]\n",
    "}"
   ]
  },
  {
   "cell_type": "code",
   "execution_count": 13,
   "metadata": {},
   "outputs": [],
   "source": [
    "# Instantiate GridSearchCV.\n",
    "\n",
    "gs3 = GridSearchCV(pipe3, # what object are we optimizing? An estimator to be optimized\n",
    "                  pipe_params3, # what parameters values are we searching? All of the settings to test e.g. stopwords, min_df\n",
    "                  cv = 7) # 7-fold cross-validation."
   ]
  },
  {
   "cell_type": "code",
   "execution_count": 14,
   "metadata": {},
   "outputs": [
    {
     "data": {
      "text/plain": [
       "GridSearchCV(cv=7,\n",
       "             estimator=Pipeline(steps=[('cov', CountVectorizer()),\n",
       "                                       ('logreg',\n",
       "                                        LogisticRegression(solver='liblinear'))]),\n",
       "             param_grid={'cov__max_df': [0.9, 0.95],\n",
       "                         'cov__max_features': [2000, 3000, 4000, 5000, None],\n",
       "                         'cov__min_df': [2, 3],\n",
       "                         'cov__ngram_range': [(1, 1), (1, 2), (2, 2)],\n",
       "                         'cov__stop_words': [['lpt']]})"
      ]
     },
     "execution_count": 14,
     "metadata": {},
     "output_type": "execute_result"
    }
   ],
   "source": [
    "# gridsearch now has the pipeline\n",
    "# Fit GridSearch to training data.\n",
    "\n",
    "gs3.fit(X_train, y_train)"
   ]
  },
  {
   "cell_type": "code",
   "execution_count": 15,
   "metadata": {},
   "outputs": [
    {
     "data": {
      "text/plain": [
       "{'cov__max_df': 0.9,\n",
       " 'cov__max_features': 4000,\n",
       " 'cov__min_df': 2,\n",
       " 'cov__ngram_range': (1, 2),\n",
       " 'cov__stop_words': ['lpt']}"
      ]
     },
     "execution_count": 15,
     "metadata": {},
     "output_type": "execute_result"
    }
   ],
   "source": [
    "# it told us what's best\n",
    "# What's the best score?\n",
    "gs3.best_params_"
   ]
  },
  {
   "cell_type": "code",
   "execution_count": 16,
   "metadata": {},
   "outputs": [
    {
     "data": {
      "text/plain": [
       "(0.988490182802979, 0.8356997971602435)"
      ]
     },
     "execution_count": 16,
     "metadata": {},
     "output_type": "execute_result"
    }
   ],
   "source": [
    "# Score model on training set.\n",
    "# Score model on testing set.\n",
    "gs3.score(X_train, y_train), gs3.score(X_test, y_test)"
   ]
  },
  {
   "cell_type": "markdown",
   "metadata": {},
   "source": [
    "Model is overfit, but not awful on the test set. Lower accuracy compared to my self-selected model though."
   ]
  },
  {
   "cell_type": "markdown",
   "metadata": {},
   "source": [
    "### 1.4 Try pipeline with: Tfidf, LogReg (model 4)"
   ]
  },
  {
   "cell_type": "code",
   "execution_count": 17,
   "metadata": {},
   "outputs": [],
   "source": [
    "# use tfidf, LogisticRegression\n",
    "\n",
    "pipe4 = Pipeline([\n",
    "    ('tf', TfidfVectorizer()),\n",
    "    ('logreg', LogisticRegression())\n",
    "])\n",
    "\n",
    "pipe_params4 = {\n",
    "    'tf__stop_words': [['lpt']],\n",
    "    'tf__max_features': [2000, 3000, 4000, 5000, None],\n",
    "    'tf__min_df': [2, 3],\n",
    "    'tf__max_df': [0.9, 0.95],\n",
    "    'tf__ngram_range': [(1,1), (1,2),(2,2)],\n",
    "    'logreg__solver': ['liblinear']\n",
    "}"
   ]
  },
  {
   "cell_type": "code",
   "execution_count": 18,
   "metadata": {},
   "outputs": [],
   "source": [
    "# Instantiate GridSearchCV.\n",
    "\n",
    "gs4 = GridSearchCV(pipe4, # what object are we optimizing? An estimator to be optimized\n",
    "                  pipe_params4, # parameter values we are searching over\n",
    "                  cv = 7) # try 7--fold cross-validation."
   ]
  },
  {
   "cell_type": "code",
   "execution_count": 19,
   "metadata": {},
   "outputs": [
    {
     "data": {
      "text/plain": [
       "GridSearchCV(cv=7,\n",
       "             estimator=Pipeline(steps=[('tf', TfidfVectorizer()),\n",
       "                                       ('logreg', LogisticRegression())]),\n",
       "             param_grid={'logreg__solver': ['liblinear'],\n",
       "                         'tf__max_df': [0.9, 0.95],\n",
       "                         'tf__max_features': [2000, 3000, 4000, 5000, None],\n",
       "                         'tf__min_df': [2, 3],\n",
       "                         'tf__ngram_range': [(1, 1), (1, 2), (2, 2)],\n",
       "                         'tf__stop_words': [['lpt']]})"
      ]
     },
     "execution_count": 19,
     "metadata": {},
     "output_type": "execute_result"
    }
   ],
   "source": [
    "# gridsearch now has the pipeline\n",
    "# Fit GridSearch to training data.\n",
    "\n",
    "gs4.fit(X_train, y_train)"
   ]
  },
  {
   "cell_type": "code",
   "execution_count": 20,
   "metadata": {},
   "outputs": [
    {
     "data": {
      "text/plain": [
       "{'logreg__solver': 'liblinear',\n",
       " 'tf__max_df': 0.9,\n",
       " 'tf__max_features': 2000,\n",
       " 'tf__min_df': 2,\n",
       " 'tf__ngram_range': (1, 2),\n",
       " 'tf__stop_words': ['lpt']}"
      ]
     },
     "execution_count": 20,
     "metadata": {},
     "output_type": "execute_result"
    }
   ],
   "source": [
    "# What's the best score?\n",
    "gs4.best_params_"
   ]
  },
  {
   "cell_type": "code",
   "execution_count": 21,
   "metadata": {},
   "outputs": [
    {
     "data": {
      "text/plain": [
       "(0.9174001354096141, 0.8438133874239351)"
      ]
     },
     "execution_count": 21,
     "metadata": {},
     "output_type": "execute_result"
    }
   ],
   "source": [
    "# Score model on training set.\n",
    "# Score model on testing set.\n",
    "gs4.score(X_train, y_train), gs4.score(X_test, y_test)"
   ]
  },
  {
   "cell_type": "markdown",
   "metadata": {},
   "source": [
    "This model is also overfit but has traded some variance for bias, resulting in closer accuracies between train and test sets. The accuracy is still lower than my self-selected model 1. Very curious."
   ]
  },
  {
   "cell_type": "markdown",
   "metadata": {},
   "source": [
    "So am I regularizing here, which is something I shouldn't be doing for LogReg? Try intentionally regularizing next."
   ]
  },
  {
   "cell_type": "markdown",
   "metadata": {},
   "source": [
    "### 1.5 Try pipeline: Tfidf, LogRegCV and regularization (model 5)"
   ]
  },
  {
   "cell_type": "code",
   "execution_count": 22,
   "metadata": {},
   "outputs": [],
   "source": [
    "# use tfidf, LogisticRegressionCV\n",
    "\n",
    "pipe5 = Pipeline([\n",
    "    ('tf', TfidfVectorizer()),\n",
    "    ('logreg', LogisticRegressionCV())\n",
    "])\n",
    "\n",
    "pipe_params5 = {\n",
    "    'tf__stop_words': [['lpt']], # use tf because above, we used tf for Tfidf\n",
    "    'tf__max_features': [2000, 3000, 4000, 5000, None], # test 'None' as a possible max values feature as well\n",
    "    'tf__min_df': [2, 3],\n",
    "    'tf__max_df': [0.9, 0.95],\n",
    "    'tf__ngram_range': [(1,1), (1,2),(2,2)],\n",
    "    'logreg__solver': ['liblinear'],\n",
    "    'logreg__Cs': [10],\n",
    "    'logreg__cv': [5],\n",
    "    'logreg__penalty': ['l1','l2']\n",
    "}"
   ]
  },
  {
   "cell_type": "code",
   "execution_count": 23,
   "metadata": {},
   "outputs": [],
   "source": [
    "# Instantiate GridSearchCV.\n",
    "\n",
    "gs5 = GridSearchCV(pipe5, # what object are we optimizing? An estimator to be optimized\n",
    "                  pipe_params5, # parameters to search over\n",
    "                  n_jobs = 4,\n",
    "                  cv = 7) # 7-fold cross-validation."
   ]
  },
  {
   "cell_type": "code",
   "execution_count": 24,
   "metadata": {},
   "outputs": [
    {
     "data": {
      "text/plain": [
       "GridSearchCV(cv=7,\n",
       "             estimator=Pipeline(steps=[('tf', TfidfVectorizer()),\n",
       "                                       ('logreg', LogisticRegressionCV())]),\n",
       "             n_jobs=4,\n",
       "             param_grid={'logreg__Cs': [10], 'logreg__cv': [5],\n",
       "                         'logreg__penalty': ['l1', 'l2'],\n",
       "                         'logreg__solver': ['liblinear'],\n",
       "                         'tf__max_df': [0.9, 0.95],\n",
       "                         'tf__max_features': [2000, 3000, 4000, 5000, None],\n",
       "                         'tf__min_df': [2, 3],\n",
       "                         'tf__ngram_range': [(1, 1), (1, 2), (2, 2)],\n",
       "                         'tf__stop_words': [['lpt']]})"
      ]
     },
     "execution_count": 24,
     "metadata": {},
     "output_type": "execute_result"
    }
   ],
   "source": [
    "# Fit GridSearch to training data.\n",
    "\n",
    "gs5.fit(X_train, y_train)"
   ]
  },
  {
   "cell_type": "code",
   "execution_count": 25,
   "metadata": {},
   "outputs": [
    {
     "data": {
      "text/plain": [
       "{'logreg__Cs': 10,\n",
       " 'logreg__cv': 5,\n",
       " 'logreg__penalty': 'l2',\n",
       " 'logreg__solver': 'liblinear',\n",
       " 'tf__max_df': 0.9,\n",
       " 'tf__max_features': 2000,\n",
       " 'tf__min_df': 2,\n",
       " 'tf__ngram_range': (1, 2),\n",
       " 'tf__stop_words': ['lpt']}"
      ]
     },
     "execution_count": 25,
     "metadata": {},
     "output_type": "execute_result"
    }
   ],
   "source": [
    "# What's the best score?\n",
    "gs5.best_params_"
   ]
  },
  {
   "cell_type": "code",
   "execution_count": 26,
   "metadata": {},
   "outputs": [
    {
     "data": {
      "text/plain": [
       "(0.950575490859851, 0.8397565922920892)"
      ]
     },
     "execution_count": 26,
     "metadata": {},
     "output_type": "execute_result"
    }
   ],
   "source": [
    "# Score model on training set.\n",
    "# Score model on testing set.\n",
    "gs5.score(X_train, y_train), gs5.score(X_test, y_test)"
   ]
  },
  {
   "cell_type": "markdown",
   "metadata": {},
   "source": [
    "This is actually more overfit than model 4. \n",
    "\n",
    "If I didn't have the self-selected model 1, I would have picked model 4 for use on the other datasets, because it is the least overfit of the other models tried. But since my self-selected model 1 is the least overfit and gave the best results for the testing set, I will use that as my model. This is similar to what happened in the decision tree lesson where the simple model performed better than the model obtained through GridSearchCV optimization. Let's apply this model to this entire dataset (using this as the training set), so we can apply the model on subsequent months in notebook 5."
   ]
  },
  {
   "cell_type": "code",
   "execution_count": 27,
   "metadata": {},
   "outputs": [
    {
     "data": {
      "text/html": [
       "<div>\n",
       "<style scoped>\n",
       "    .dataframe tbody tr th:only-of-type {\n",
       "        vertical-align: middle;\n",
       "    }\n",
       "\n",
       "    .dataframe tbody tr th {\n",
       "        vertical-align: top;\n",
       "    }\n",
       "\n",
       "    .dataframe thead th {\n",
       "        text-align: right;\n",
       "    }\n",
       "</style>\n",
       "<table border=\"1\" class=\"dataframe\">\n",
       "  <thead>\n",
       "    <tr style=\"text-align: right;\">\n",
       "      <th></th>\n",
       "      <th>Coefficient</th>\n",
       "    </tr>\n",
       "  </thead>\n",
       "  <tbody>\n",
       "    <tr>\n",
       "      <th>your</th>\n",
       "      <td>252.149100</td>\n",
       "    </tr>\n",
       "    <tr>\n",
       "      <th>don</th>\n",
       "      <td>52.175675</td>\n",
       "    </tr>\n",
       "    <tr>\n",
       "      <th>if you</th>\n",
       "      <td>19.040133</td>\n",
       "    </tr>\n",
       "    <tr>\n",
       "      <th>keep</th>\n",
       "      <td>16.159090</td>\n",
       "    </tr>\n",
       "    <tr>\n",
       "      <th>use</th>\n",
       "      <td>15.432955</td>\n",
       "    </tr>\n",
       "    <tr>\n",
       "      <th>for</th>\n",
       "      <td>11.275480</td>\n",
       "    </tr>\n",
       "    <tr>\n",
       "      <th>choose</th>\n",
       "      <td>9.187222</td>\n",
       "    </tr>\n",
       "    <tr>\n",
       "      <th>how to</th>\n",
       "      <td>8.885931</td>\n",
       "    </tr>\n",
       "    <tr>\n",
       "      <th>take</th>\n",
       "      <td>8.775353</td>\n",
       "    </tr>\n",
       "    <tr>\n",
       "      <th>yourself</th>\n",
       "      <td>8.517579</td>\n",
       "    </tr>\n",
       "  </tbody>\n",
       "</table>\n",
       "</div>"
      ],
      "text/plain": [
       "          Coefficient\n",
       "your       252.149100\n",
       "don         52.175675\n",
       "if you      19.040133\n",
       "keep        16.159090\n",
       "use         15.432955\n",
       "for         11.275480\n",
       "choose       9.187222\n",
       "how to       8.885931\n",
       "take         8.775353\n",
       "yourself     8.517579"
      ]
     },
     "execution_count": 27,
     "metadata": {},
     "output_type": "execute_result"
    }
   ],
   "source": [
    "# look at coefficients\n",
    "# Google: how to extract coefficients from pipeline estimator\n",
    "# https://stackoverflow.com/questions/43856280/return-coefficients-from-pipeline-object-in-sklearn\n",
    "\n",
    "# talk about stacked methods\n",
    "\n",
    "coeffs = np.exp(gs5.best_estimator_.named_steps.logreg.coef_)\n",
    "words = gs5.best_estimator_.named_steps.tf.get_feature_names()\n",
    "pd.DataFrame(coeffs.T, index=[words], columns=['Coefficient']).sort_values(by='Coefficient', ascending=False).head(10)"
   ]
  },
  {
   "cell_type": "markdown",
   "metadata": {},
   "source": [
    "## 2. Explore model behavior"
   ]
  },
  {
   "cell_type": "markdown",
   "metadata": {},
   "source": [
    "Rebuild the model (using parameters from model 1) with the whole dataset."
   ]
  },
  {
   "cell_type": "code",
   "execution_count": 28,
   "metadata": {},
   "outputs": [],
   "source": [
    "# This is model 4. It resulted in a score of ~91%. Commented out but left here for future reference.\n",
    "# pipe = Pipeline([\n",
    "#     ('tf', TfidfVectorizer(stop_words = ['lpt'],\n",
    "#                                  max_features = 2000, min_df = 2,\n",
    "#                                  max_df = 0.9, ngram_range = (1,2))),\n",
    "#     ('logreg', LogisticRegression(solver='liblinear'))\n",
    "# ])\n",
    "\n",
    "# pipe.fit(X,y)\n",
    "# pipe.score(X,y)"
   ]
  },
  {
   "cell_type": "code",
   "execution_count": 29,
   "metadata": {},
   "outputs": [
    {
     "data": {
      "text/plain": [
       "0.9263959390862944"
      ]
     },
     "execution_count": 29,
     "metadata": {},
     "output_type": "execute_result"
    }
   ],
   "source": [
    "pipe = Pipeline([\n",
    "    ('tf', TfidfVectorizer(min_df=2, stop_words = ['lpt'])),\n",
    "    ('logreg', LogisticRegression(solver='liblinear'))\n",
    "])\n",
    "\n",
    "pipe.fit(X,y)\n",
    "pipe.score(X,y)"
   ]
  },
  {
   "cell_type": "code",
   "execution_count": 30,
   "metadata": {},
   "outputs": [
    {
     "data": {
      "text/html": [
       "<div>\n",
       "<style scoped>\n",
       "    .dataframe tbody tr th:only-of-type {\n",
       "        vertical-align: middle;\n",
       "    }\n",
       "\n",
       "    .dataframe tbody tr th {\n",
       "        vertical-align: top;\n",
       "    }\n",
       "\n",
       "    .dataframe thead th {\n",
       "        text-align: right;\n",
       "    }\n",
       "</style>\n",
       "<table border=\"1\" class=\"dataframe\">\n",
       "  <thead>\n",
       "    <tr style=\"text-align: right;\">\n",
       "      <th></th>\n",
       "      <th>Coefficient</th>\n",
       "    </tr>\n",
       "  </thead>\n",
       "  <tbody>\n",
       "    <tr>\n",
       "      <th>your</th>\n",
       "      <td>126.027519</td>\n",
       "    </tr>\n",
       "    <tr>\n",
       "      <th>don</th>\n",
       "      <td>13.146453</td>\n",
       "    </tr>\n",
       "    <tr>\n",
       "      <th>use</th>\n",
       "      <td>9.150317</td>\n",
       "    </tr>\n",
       "    <tr>\n",
       "      <th>water</th>\n",
       "      <td>6.384216</td>\n",
       "    </tr>\n",
       "    <tr>\n",
       "      <th>for</th>\n",
       "      <td>6.292872</td>\n",
       "    </tr>\n",
       "    <tr>\n",
       "      <th>keep</th>\n",
       "      <td>6.159003</td>\n",
       "    </tr>\n",
       "    <tr>\n",
       "      <th>you</th>\n",
       "      <td>5.308579</td>\n",
       "    </tr>\n",
       "    <tr>\n",
       "      <th>want</th>\n",
       "      <td>5.239847</td>\n",
       "    </tr>\n",
       "    <tr>\n",
       "      <th>and</th>\n",
       "      <td>4.890368</td>\n",
       "    </tr>\n",
       "    <tr>\n",
       "      <th>to</th>\n",
       "      <td>4.889101</td>\n",
       "    </tr>\n",
       "  </tbody>\n",
       "</table>\n",
       "</div>"
      ],
      "text/plain": [
       "       Coefficient\n",
       "your    126.027519\n",
       "don      13.146453\n",
       "use       9.150317\n",
       "water     6.384216\n",
       "for       6.292872\n",
       "keep      6.159003\n",
       "you       5.308579\n",
       "want      5.239847\n",
       "and       4.890368\n",
       "to        4.889101"
      ]
     },
     "execution_count": 30,
     "metadata": {},
     "output_type": "execute_result"
    }
   ],
   "source": [
    "coeffs = np.exp(pipe.named_steps.logreg.coef_)\n",
    "\n",
    "words = pipe.named_steps.tf.get_feature_names()\n",
    "pd.DataFrame(coeffs.T, index=[words], columns=['Coefficient']).sort_values(by='Coefficient', ascending=False).head(10)"
   ]
  },
  {
   "cell_type": "markdown",
   "metadata": {},
   "source": [
    "In this model, 'your' is 10 times more important than the next most important word, which is 'don't. Each increase in 'your' makes a sentence 126 times more likely to be from LifeProTips."
   ]
  },
  {
   "cell_type": "markdown",
   "metadata": {},
   "source": [
    "### 2.1 Plot confusion matrix"
   ]
  },
  {
   "cell_type": "code",
   "execution_count": 31,
   "metadata": {},
   "outputs": [],
   "source": [
    "y_preds = pipe.predict(X)"
   ]
  },
  {
   "cell_type": "code",
   "execution_count": 32,
   "metadata": {},
   "outputs": [
    {
     "data": {
      "image/png": "[encoded data removed]",
      "text/plain": [
       "<Figure size 432x288 with 2 Axes>"
      ]
     },
     "metadata": {
      "needs_background": "light"
     },
     "output_type": "display_data"
    }
   ],
   "source": [
    "plot_confusion_matrix(pipe, X, y,\n",
    "                     cmap = 'Blues',\n",
    "                     display_labels=['Showerthoughts','LifeProTips']) # give it the estimator, X, y\n",
    "plt.title('Confusion matrix for subreddit posts')\n",
    "plt.show()"
   ]
  },
  {
   "cell_type": "markdown",
   "metadata": {},
   "source": [
    "A slightly higher fraction of LifeProTips posts are misclassified, but the difference in rate is very small."
   ]
  },
  {
   "cell_type": "code",
   "execution_count": 33,
   "metadata": {},
   "outputs": [
    {
     "name": "stdout",
     "output_type": "stream",
     "text": [
      "              precision    recall  f1-score   support\n",
      "\n",
      "           0       0.92      0.93      0.93       991\n",
      "           1       0.93      0.92      0.93       979\n",
      "\n",
      "    accuracy                           0.93      1970\n",
      "   macro avg       0.93      0.93      0.93      1970\n",
      "weighted avg       0.93      0.93      0.93      1970\n",
      "\n"
     ]
    }
   ],
   "source": [
    "print(classification_report(y, y_preds))"
   ]
  },
  {
   "cell_type": "code",
   "execution_count": 34,
   "metadata": {},
   "outputs": [
    {
     "name": "stdout",
     "output_type": "stream",
     "text": [
      "Accuracy = 0.93\n",
      "Sensitivity / recall = 0.92\n",
      "Specificity / true negative rate = 0.93\n",
      "Precision / positive predictive value = 0.93\n"
     ]
    }
   ],
   "source": [
    "print(f\"Accuracy = {round((923+902)/(923+902+68+77),2)}\")\n",
    "print(f\"Sensitivity / recall = {round(902/(902+77),2)}\")\n",
    "print(f\"Specificity / true negative rate = {round(923/(923+68),2)}\")\n",
    "print(f\"Precision / positive predictive value = {round(902/(902+68),2)}\")"
   ]
  },
  {
   "cell_type": "markdown",
   "metadata": {},
   "source": [
    "The accuracy calculated here is the same as the score output by the pipeline. Which is good."
   ]
  },
  {
   "cell_type": "markdown",
   "metadata": {},
   "source": [
    "### 2.2 What type of posts are misclassified?"
   ]
  },
  {
   "cell_type": "code",
   "execution_count": 35,
   "metadata": {},
   "outputs": [
    {
     "data": {
      "text/plain": [
       "(145, 5)"
      ]
     },
     "execution_count": 35,
     "metadata": {},
     "output_type": "execute_result"
    }
   ],
   "source": [
    "df['preds'] = y_preds\n",
    "misclass = df[df['subreddit'] != df['preds']].copy()\n",
    "misclass.drop(columns='selftext', inplace=True)\n",
    "misclass.shape"
   ]
  },
  {
   "cell_type": "code",
   "execution_count": 36,
   "metadata": {},
   "outputs": [
    {
     "data": {
      "text/plain": [
       "1    0.531034\n",
       "0    0.468966\n",
       "Name: subreddit, dtype: float64"
      ]
     },
     "execution_count": 36,
     "metadata": {},
     "output_type": "execute_result"
    }
   ],
   "source": [
    "misclass['subreddit'].value_counts(normalize=True)"
   ]
  },
  {
   "cell_type": "markdown",
   "metadata": {},
   "source": [
    "A slightly higher fraction of LifeProTips posts are misclassified (53%) compared to Showerthoughts (47%)."
   ]
  },
  {
   "cell_type": "code",
   "execution_count": 37,
   "metadata": {},
   "outputs": [
    {
     "data": {
      "text/html": [
       "<div>\n",
       "<style scoped>\n",
       "    .dataframe tbody tr th:only-of-type {\n",
       "        vertical-align: middle;\n",
       "    }\n",
       "\n",
       "    .dataframe tbody tr th {\n",
       "        vertical-align: top;\n",
       "    }\n",
       "\n",
       "    .dataframe thead th {\n",
       "        text-align: right;\n",
       "    }\n",
       "</style>\n",
       "<table border=\"1\" class=\"dataframe\">\n",
       "  <thead>\n",
       "    <tr style=\"text-align: right;\">\n",
       "      <th></th>\n",
       "      <th>subreddit</th>\n",
       "      <th>title</th>\n",
       "      <th>status_char_length</th>\n",
       "      <th>status_word_count</th>\n",
       "      <th>preds</th>\n",
       "    </tr>\n",
       "  </thead>\n",
       "  <tbody>\n",
       "    <tr>\n",
       "      <th>2</th>\n",
       "      <td>1</td>\n",
       "      <td>Just dont</td>\n",
       "      <td>9</td>\n",
       "      <td>2</td>\n",
       "      <td>0</td>\n",
       "    </tr>\n",
       "    <tr>\n",
       "      <th>24</th>\n",
       "      <td>1</td>\n",
       "      <td>LPT: there is no such thing as \"must watch TV\"</td>\n",
       "      <td>46</td>\n",
       "      <td>10</td>\n",
       "      <td>0</td>\n",
       "    </tr>\n",
       "    <tr>\n",
       "      <th>28</th>\n",
       "      <td>1</td>\n",
       "      <td>LPT: The fool has to say something... the wise person has something to say.</td>\n",
       "      <td>75</td>\n",
       "      <td>14</td>\n",
       "      <td>0</td>\n",
       "    </tr>\n",
       "    <tr>\n",
       "      <th>43</th>\n",
       "      <td>1</td>\n",
       "      <td>LPT: Some people can have a sensitive nose. Less is better when it comes to things like cologne and perfume.</td>\n",
       "      <td>108</td>\n",
       "      <td>20</td>\n",
       "      <td>0</td>\n",
       "    </tr>\n",
       "    <tr>\n",
       "      <th>57</th>\n",
       "      <td>1</td>\n",
       "      <td>Anyone feel weird?</td>\n",
       "      <td>18</td>\n",
       "      <td>3</td>\n",
       "      <td>0</td>\n",
       "    </tr>\n",
       "    <tr>\n",
       "      <th>74</th>\n",
       "      <td>1</td>\n",
       "      <td>LPT: Live in the moment as much as possible. Past has already happened and future will happen regardless, only thing that matters is the present.</td>\n",
       "      <td>145</td>\n",
       "      <td>25</td>\n",
       "      <td>0</td>\n",
       "    </tr>\n",
       "    <tr>\n",
       "      <th>77</th>\n",
       "      <td>1</td>\n",
       "      <td>LPT</td>\n",
       "      <td>3</td>\n",
       "      <td>1</td>\n",
       "      <td>0</td>\n",
       "    </tr>\n",
       "    <tr>\n",
       "      <th>102</th>\n",
       "      <td>1</td>\n",
       "      <td>LPT 𝘐𝘕𝘚𝘛𝘌𝘈𝘋 𝘖𝘍 𝘜𝘚𝘐𝘕𝘎 𝘛𝘖𝘐𝘓𝘌𝘛 𝘗𝘈𝘗𝘌𝘙 𝘑𝘜𝘚𝘛 𝘞𝘐𝘗𝘌 𝘠𝘖𝘜𝘙 𝘈𝘚𝘚 𝘞𝘐𝘛𝘏 𝘈 𝘊𝘈𝘛 𝘐𝘕𝘚𝘛𝘌𝘈𝘋. 𝘛𝘏𝘌𝘠 𝘓𝘐𝘊𝘒 𝘛𝘏𝘌𝘕𝘔𝘚𝘌𝘓𝘝𝘌𝘚 𝘊𝘓𝘌𝘈𝘕 𝘚𝘖 𝘐𝘛𝘚 𝘓𝘐𝘒𝘌 𝘜𝘕𝘓𝘐𝘔𝘐𝘛𝘌𝘋 𝘛𝘖𝘐𝘓𝘌𝘛 𝘗𝘈𝘗𝘌𝘙 𝘈𝘕𝘋 𝘠𝘖𝘜 𝘎𝘌𝘛 𝘛𝘖 𝘗𝘌𝘛 𝘐𝘛 𝘈𝘍𝘛𝘌𝘙!!!</td>\n",
       "      <td>166</td>\n",
       "      <td>31</td>\n",
       "      <td>0</td>\n",
       "    </tr>\n",
       "    <tr>\n",
       "      <th>112</th>\n",
       "      <td>1</td>\n",
       "      <td>I’m depressed</td>\n",
       "      <td>13</td>\n",
       "      <td>2</td>\n",
       "      <td>0</td>\n",
       "    </tr>\n",
       "    <tr>\n",
       "      <th>147</th>\n",
       "      <td>1</td>\n",
       "      <td>LPT: Never be nervous about presenting at conferences. The fact is, no one will remember you. Sad but also liberating.</td>\n",
       "      <td>118</td>\n",
       "      <td>20</td>\n",
       "      <td>0</td>\n",
       "    </tr>\n",
       "  </tbody>\n",
       "</table>\n",
       "</div>"
      ],
      "text/plain": [
       "     subreddit  \\\n",
       "2            1   \n",
       "24           1   \n",
       "28           1   \n",
       "43           1   \n",
       "57           1   \n",
       "74           1   \n",
       "77           1   \n",
       "102          1   \n",
       "112          1   \n",
       "147          1   \n",
       "\n",
       "                                                                                                                                                                      title  \\\n",
       "2                                                                                                                                                                 Just dont   \n",
       "24                                                                                                                           LPT: there is no such thing as \"must watch TV\"   \n",
       "28                                                                                              LPT: The fool has to say something... the wise person has something to say.   \n",
       "43                                                             LPT: Some people can have a sensitive nose. Less is better when it comes to things like cologne and perfume.   \n",
       "57                                                                                                                                                       Anyone feel weird?   \n",
       "74                        LPT: Live in the moment as much as possible. Past has already happened and future will happen regardless, only thing that matters is the present.   \n",
       "77                                                                                                                                                                      LPT   \n",
       "102  LPT 𝘐𝘕𝘚𝘛𝘌𝘈𝘋 𝘖𝘍 𝘜𝘚𝘐𝘕𝘎 𝘛𝘖𝘐𝘓𝘌𝘛 𝘗𝘈𝘗𝘌𝘙 𝘑𝘜𝘚𝘛 𝘞𝘐𝘗𝘌 𝘠𝘖𝘜𝘙 𝘈𝘚𝘚 𝘞𝘐𝘛𝘏 𝘈 𝘊𝘈𝘛 𝘐𝘕𝘚𝘛𝘌𝘈𝘋. 𝘛𝘏𝘌𝘠 𝘓𝘐𝘊𝘒 𝘛𝘏𝘌𝘕𝘔𝘚𝘌𝘓𝘝𝘌𝘚 𝘊𝘓𝘌𝘈𝘕 𝘚𝘖 𝘐𝘛𝘚 𝘓𝘐𝘒𝘌 𝘜𝘕𝘓𝘐𝘔𝘐𝘛𝘌𝘋 𝘛𝘖𝘐𝘓𝘌𝘛 𝘗𝘈𝘗𝘌𝘙 𝘈𝘕𝘋 𝘠𝘖𝘜 𝘎𝘌𝘛 𝘛𝘖 𝘗𝘌𝘛 𝘐𝘛 𝘈𝘍𝘛𝘌𝘙!!!   \n",
       "112                                                                                                                                                           I’m depressed   \n",
       "147                                                  LPT: Never be nervous about presenting at conferences. The fact is, no one will remember you. Sad but also liberating.   \n",
       "\n",
       "     status_char_length  status_word_count  preds  \n",
       "2                     9                  2      0  \n",
       "24                   46                 10      0  \n",
       "28                   75                 14      0  \n",
       "43                  108                 20      0  \n",
       "57                   18                  3      0  \n",
       "74                  145                 25      0  \n",
       "77                    3                  1      0  \n",
       "102                 166                 31      0  \n",
       "112                  13                  2      0  \n",
       "147                 118                 20      0  "
      ]
     },
     "execution_count": 37,
     "metadata": {},
     "output_type": "execute_result"
    }
   ],
   "source": [
    "misclass.head(10)"
   ]
  },
  {
   "cell_type": "code",
   "execution_count": 38,
   "metadata": {},
   "outputs": [
    {
     "data": {
      "text/html": [
       "<div>\n",
       "<style scoped>\n",
       "    .dataframe tbody tr th:only-of-type {\n",
       "        vertical-align: middle;\n",
       "    }\n",
       "\n",
       "    .dataframe tbody tr th {\n",
       "        vertical-align: top;\n",
       "    }\n",
       "\n",
       "    .dataframe thead th {\n",
       "        text-align: right;\n",
       "    }\n",
       "</style>\n",
       "<table border=\"1\" class=\"dataframe\">\n",
       "  <thead>\n",
       "    <tr style=\"text-align: right;\">\n",
       "      <th></th>\n",
       "      <th>subreddit</th>\n",
       "      <th>title</th>\n",
       "      <th>status_char_length</th>\n",
       "      <th>status_word_count</th>\n",
       "      <th>preds</th>\n",
       "    </tr>\n",
       "  </thead>\n",
       "  <tbody>\n",
       "    <tr>\n",
       "      <th>1831</th>\n",
       "      <td>0</td>\n",
       "      <td>Did you know if you stop talking, we don’t have to hear your annoying ass</td>\n",
       "      <td>73</td>\n",
       "      <td>15</td>\n",
       "      <td>1</td>\n",
       "    </tr>\n",
       "    <tr>\n",
       "      <th>1844</th>\n",
       "      <td>0</td>\n",
       "      <td>Microwaves need warnings to not leave spoons in bowls.</td>\n",
       "      <td>54</td>\n",
       "      <td>9</td>\n",
       "      <td>1</td>\n",
       "    </tr>\n",
       "    <tr>\n",
       "      <th>1862</th>\n",
       "      <td>0</td>\n",
       "      <td>At all points in time you can hear both outside and inside your own mouth.</td>\n",
       "      <td>74</td>\n",
       "      <td>15</td>\n",
       "      <td>1</td>\n",
       "    </tr>\n",
       "    <tr>\n",
       "      <th>1866</th>\n",
       "      <td>0</td>\n",
       "      <td>When friends you introduce to each other get romantically involved and they complain to you, you become their customer support.</td>\n",
       "      <td>127</td>\n",
       "      <td>20</td>\n",
       "      <td>1</td>\n",
       "    </tr>\n",
       "    <tr>\n",
       "      <th>1877</th>\n",
       "      <td>0</td>\n",
       "      <td>Trading on crypto is trying to make money from the very thing designed to replace it.</td>\n",
       "      <td>85</td>\n",
       "      <td>16</td>\n",
       "      <td>1</td>\n",
       "    </tr>\n",
       "    <tr>\n",
       "      <th>1909</th>\n",
       "      <td>0</td>\n",
       "      <td>If you're a woman and your holding a make-up brush at the start of your tutorial, you have a 7 in 10 chance one of your looks will be transforming into Johnny Depp.</td>\n",
       "      <td>164</td>\n",
       "      <td>33</td>\n",
       "      <td>1</td>\n",
       "    </tr>\n",
       "    <tr>\n",
       "      <th>1915</th>\n",
       "      <td>0</td>\n",
       "      <td>Before 2020 you wouldn’t care if you get a sore throat. Now you do.</td>\n",
       "      <td>67</td>\n",
       "      <td>14</td>\n",
       "      <td>1</td>\n",
       "    </tr>\n",
       "    <tr>\n",
       "      <th>1924</th>\n",
       "      <td>0</td>\n",
       "      <td>As it costs money to add things to food, It should subtract when you take things off.</td>\n",
       "      <td>85</td>\n",
       "      <td>17</td>\n",
       "      <td>1</td>\n",
       "    </tr>\n",
       "    <tr>\n",
       "      <th>1944</th>\n",
       "      <td>0</td>\n",
       "      <td>If you're a woman holding a make-up brush at the start of your video on Reddit, you will have a 7 in 10 chance one of your looks will be Johnny Depp.</td>\n",
       "      <td>149</td>\n",
       "      <td>32</td>\n",
       "      <td>1</td>\n",
       "    </tr>\n",
       "    <tr>\n",
       "      <th>1964</th>\n",
       "      <td>0</td>\n",
       "      <td>You always need a third party when you are roasting someone or else it will just make them think you hate them</td>\n",
       "      <td>110</td>\n",
       "      <td>22</td>\n",
       "      <td>1</td>\n",
       "    </tr>\n",
       "  </tbody>\n",
       "</table>\n",
       "</div>"
      ],
      "text/plain": [
       "      subreddit  \\\n",
       "1831          0   \n",
       "1844          0   \n",
       "1862          0   \n",
       "1866          0   \n",
       "1877          0   \n",
       "1909          0   \n",
       "1915          0   \n",
       "1924          0   \n",
       "1944          0   \n",
       "1964          0   \n",
       "\n",
       "                                                                                                                                                                     title  \\\n",
       "1831                                                                                             Did you know if you stop talking, we don’t have to hear your annoying ass   \n",
       "1844                                                                                                                Microwaves need warnings to not leave spoons in bowls.   \n",
       "1862                                                                                            At all points in time you can hear both outside and inside your own mouth.   \n",
       "1866                                       When friends you introduce to each other get romantically involved and they complain to you, you become their customer support.   \n",
       "1877                                                                                 Trading on crypto is trying to make money from the very thing designed to replace it.   \n",
       "1909  If you're a woman and your holding a make-up brush at the start of your tutorial, you have a 7 in 10 chance one of your looks will be transforming into Johnny Depp.   \n",
       "1915                                                                                                   Before 2020 you wouldn’t care if you get a sore throat. Now you do.   \n",
       "1924                                                                                 As it costs money to add things to food, It should subtract when you take things off.   \n",
       "1944                 If you're a woman holding a make-up brush at the start of your video on Reddit, you will have a 7 in 10 chance one of your looks will be Johnny Depp.   \n",
       "1964                                                        You always need a third party when you are roasting someone or else it will just make them think you hate them   \n",
       "\n",
       "      status_char_length  status_word_count  preds  \n",
       "1831                  73                 15      1  \n",
       "1844                  54                  9      1  \n",
       "1862                  74                 15      1  \n",
       "1866                 127                 20      1  \n",
       "1877                  85                 16      1  \n",
       "1909                 164                 33      1  \n",
       "1915                  67                 14      1  \n",
       "1924                  85                 17      1  \n",
       "1944                 149                 32      1  \n",
       "1964                 110                 22      1  "
      ]
     },
     "execution_count": 38,
     "metadata": {},
     "output_type": "execute_result"
    }
   ],
   "source": [
    "misclass.tail(10)"
   ]
  },
  {
   "cell_type": "markdown",
   "metadata": {},
   "source": [
    "In reading the titles, perhaps I can say that the misclassified LifeProTips posts are kind of 'deep' e.g. The fool has to say something... the wise person has something to say. And the misclassified Showerthoughts posts are perhaps 'shallow' e.g. the 2 on makeup and Johnny Depp. But that might just be because the 2nd post in LifeProTips has the word 'wise' in it.\n",
    "\n",
    "I think my favorite so far is: At all points in time you can hear both outside and inside your own mouth. LoL!\n",
    "\n",
    "Let's see if there's anything special about the distributions of the character and word counts."
   ]
  },
  {
   "cell_type": "markdown",
   "metadata": {},
   "source": [
    "### 2.3 EDA on post lengths (misclassified posts)"
   ]
  },
  {
   "cell_type": "code",
   "execution_count": 39,
   "metadata": {},
   "outputs": [
    {
     "data": {
      "image/png": "[encoded data removed]",
      "text/plain": [
       "<Figure size 720x360 with 1 Axes>"
      ]
     },
     "metadata": {
      "needs_background": "light"
     },
     "output_type": "display_data"
    }
   ],
   "source": [
    "# Char length by subreddit\n",
    "\n",
    "plt.figure(figsize=(10,5))\n",
    "plt.hist(x=[misclass[misclass['subreddit']==1]['status_char_length'],misclass[misclass['subreddit']==0]['status_char_length']],\n",
    "             bins=20,color=['lightgreen','gray'],edgecolor='black',label=['LifeProTips','Showerthoughts'])\n",
    "# df['status_word_count'].hist(bins=20, color='pink', edgecolor='black')\n",
    "plt.title(\"Histogram of 'status_char_length' (misclassified posts)\")\n",
    "plt.xlabel(\"'status_char_length'\")\n",
    "plt.ylabel(\"Frequency\")\n",
    "plt.legend(loc='upper right')\n",
    "plt.show()"
   ]
  },
  {
   "cell_type": "code",
   "execution_count": 40,
   "metadata": {},
   "outputs": [
    {
     "data": {
      "image/png": "[encoded data removed]",
      "text/plain": [
       "<Figure size 720x360 with 1 Axes>"
      ]
     },
     "metadata": {
      "needs_background": "light"
     },
     "output_type": "display_data"
    }
   ],
   "source": [
    "# Word count by subreddit\n",
    "\n",
    "plt.figure(figsize=(10,5))\n",
    "plt.hist(x=[misclass[misclass['subreddit']==1]['status_word_count'],misclass[misclass['subreddit']==0]['status_word_count']],\n",
    "             bins=20,color=['pink','gray'],edgecolor='black',label=['LifeProTips','Showerthoughts'])\n",
    "# df['status_word_count'].hist(bins=20, color='pink', edgecolor='black')\n",
    "plt.title(\"Histogram of 'status_word_count' (misclassified posts)\")\n",
    "plt.xlabel(\"'status_word_count'\")\n",
    "plt.ylabel(\"Frequency\")\n",
    "plt.legend(loc='upper right')\n",
    "plt.show()"
   ]
  },
  {
   "cell_type": "markdown",
   "metadata": {},
   "source": [
    "I don't see any particular pattern to these distributions."
   ]
  },
  {
   "cell_type": "markdown",
   "metadata": {},
   "source": [
    "#### Vectorize"
   ]
  },
  {
   "cell_type": "code",
   "execution_count": 41,
   "metadata": {},
   "outputs": [
    {
     "data": {
      "text/plain": [
       "CountVectorizer(stop_words=['hence', 'fill', 'besides', 'thus', 'system',\n",
       "                            'alone', 'next', 'between', 'how', 'towards',\n",
       "                            'because', 'before', 'would', 'wherein', 'con',\n",
       "                            'now', 'her', 'once', 'above', 'fifteen', 'thru',\n",
       "                            'even', 'be', 'yours', 'an', 'co', 'off', 'put',\n",
       "                            'several', 'whatever', ...])"
      ]
     },
     "execution_count": 41,
     "metadata": {},
     "output_type": "execute_result"
    }
   ],
   "source": [
    "X1 = misclass[misclass['subreddit']==1]['title'] # LifeProTips\n",
    "X0 = misclass[misclass['subreddit']==0]['title'] # Showerthoughts\n",
    "\n",
    "my_stopwords = list(CountVectorizer(stop_words = 'english').get_stop_words()) + ['lpt'] # from NLP lesson #2\n",
    "\n",
    "# Instantiate a CountVectorizer object, excluding stop_words and 'lpt'\n",
    "cvec1 = CountVectorizer(stop_words = my_stopwords)\n",
    "cvec0 = CountVectorizer(stop_words = my_stopwords)\n",
    "\n",
    "# Fit the count vectorizer on the titles\n",
    "cvec1.fit(X1)\n",
    "cvec0.fit(X0)"
   ]
  },
  {
   "cell_type": "code",
   "execution_count": 42,
   "metadata": {},
   "outputs": [],
   "source": [
    "# Transform the corpus. Count Vectorizer transformer results in a sparse matrix (most things are zero), only keep non-zero elements\n",
    "X1_cv = cvec1.transform(X1)\n",
    "X0_cv = cvec0.transform(X0)\n",
    "\n",
    "# Store the transformed data (LifeProTips)\n",
    "X1_df = pd.DataFrame(X1_cv.todense(), columns=cvec1.get_feature_names())\n",
    "X0_df = pd.DataFrame(X0_cv.todense(), columns=cvec0.get_feature_names())"
   ]
  },
  {
   "cell_type": "markdown",
   "metadata": {},
   "source": [
    "### 2.4 Show 15 most common words (misclassified posts)"
   ]
  },
  {
   "cell_type": "code",
   "execution_count": 43,
   "metadata": {},
   "outputs": [
    {
     "data": {
      "image/png": "[encoded data removed]",
      "text/plain": [
       "<Figure size 576x504 with 1 Axes>"
      ]
     },
     "metadata": {
      "needs_background": "light"
     },
     "output_type": "display_data"
    }
   ],
   "source": [
    "# 15 most common 'LifeProTips' words (in the misclassified posts)\n",
    "\n",
    "plt.figure(figsize=(8,7))\n",
    "X1_df.sum().sort_values(ascending=True).tail(15).plot(kind='barh', color='orange', edgecolor='black')\n",
    "plt.xlabel('Count')\n",
    "plt.ylabel('Words')\n",
    "plt.title(\"15 most common 'LifeProTips' words (misclassified posts)\")\n",
    "plt.show()"
   ]
  },
  {
   "cell_type": "code",
   "execution_count": 44,
   "metadata": {},
   "outputs": [
    {
     "data": {
      "image/png": "[encoded data removed]",
      "text/plain": [
       "<Figure size 576x504 with 1 Axes>"
      ]
     },
     "metadata": {
      "needs_background": "light"
     },
     "output_type": "display_data"
    }
   ],
   "source": [
    "# 15 most common 'Showerthoughts' words\n",
    "\n",
    "plt.figure(figsize=(8,7))\n",
    "X0_df.sum().sort_values(ascending=True).tail(15).plot(kind='barh', color='skyblue', edgecolor='black')\n",
    "plt.xlabel('Count')\n",
    "plt.ylabel('Words')\n",
    "plt.title(\"15 most common 'Showerthoughts' words (misclassified posts)\")\n",
    "plt.show()"
   ]
  },
  {
   "cell_type": "markdown",
   "metadata": {},
   "source": [
    "Nothing observably special about these words."
   ]
  },
  {
   "cell_type": "markdown",
   "metadata": {},
   "source": [
    "### 2.5 Common words in top 100 (misclassified posts)"
   ]
  },
  {
   "cell_type": "code",
   "execution_count": 45,
   "metadata": {},
   "outputs": [
    {
     "data": {
      "text/plain": [
       "17"
      ]
     },
     "execution_count": 45,
     "metadata": {},
     "output_type": "execute_result"
    }
   ],
   "source": [
    "# Count common words between subreddits, in the top 100 words of each post.\n",
    "# Google: convert pd index to list\n",
    "# https://pandas.pydata.org/pandas-docs/stable/reference/api/pandas.Index.tolist.html\n",
    "\n",
    "common_sci = X1_df.sum().sort_values(ascending=False).head(100).index.tolist()\n",
    "common_spc = X0_df.sum().sort_values(ascending=False).head(100).index.tolist()\n",
    "\n",
    "# Google: count duplicates in 2 lists\n",
    "# https://stackoverflow.com/questions/13323851/python-3-counting-matches-in-two-lists-including-duplicates\n",
    "\n",
    "results = 0\n",
    "\n",
    "for i in range(len(common_sci)):\n",
    "    results += common_spc.count(common_sci[i])\n",
    "\n",
    "results"
   ]
  },
  {
   "cell_type": "markdown",
   "metadata": {},
   "source": [
    "The posts from these 2 subreddits have only a 17% overlap in words, compared to 37% from the original larger set. So it's not like there's more overlap."
   ]
  },
  {
   "cell_type": "markdown",
   "metadata": {},
   "source": [
    "### 2.6 Most common bigrams (misclassified posts)"
   ]
  },
  {
   "cell_type": "markdown",
   "metadata": {},
   "source": [
    "Let's look at the most common bigrams, excluding common English words, so we see what 'non-standard' pairs of words show up. Create a customized set of stopwords, to include 'lpt'."
   ]
  },
  {
   "cell_type": "code",
   "execution_count": 46,
   "metadata": {},
   "outputs": [],
   "source": [
    "my_stopwords = list(CountVectorizer(stop_words = 'english').get_stop_words()) + ['lpt']"
   ]
  },
  {
   "cell_type": "code",
   "execution_count": 47,
   "metadata": {},
   "outputs": [
    {
     "data": {
      "text/plain": [
       "CountVectorizer(ngram_range=(2, 2),\n",
       "                stop_words=['hence', 'fill', 'besides', 'thus', 'system',\n",
       "                            'alone', 'next', 'between', 'how', 'towards',\n",
       "                            'because', 'before', 'would', 'wherein', 'con',\n",
       "                            'now', 'her', 'once', 'above', 'fifteen', 'thru',\n",
       "                            'even', 'be', 'yours', 'an', 'co', 'off', 'put',\n",
       "                            'several', 'whatever', ...])"
      ]
     },
     "execution_count": 47,
     "metadata": {},
     "output_type": "execute_result"
    }
   ],
   "source": [
    "# Instantiate a CountVectorizer object, excluding stop_words\n",
    "cvec1 = CountVectorizer(stop_words = my_stopwords, ngram_range=(2,2))\n",
    "cvec0 = CountVectorizer(stop_words = my_stopwords, ngram_range=(2,2))\n",
    "\n",
    "# Fit the count vectorizer on the subreddit posts\n",
    "cvec1.fit(X1)\n",
    "cvec0.fit(X0)"
   ]
  },
  {
   "cell_type": "code",
   "execution_count": 48,
   "metadata": {},
   "outputs": [],
   "source": [
    "# Transform the corpus. Count Vectorizer transformer results in a sparse matrix (most things are zero), only keep non-zero elements\n",
    "X1_cv = cvec1.transform(X1)\n",
    "X0_cv = cvec0.transform(X0)\n",
    "\n",
    "# Store the transformed data\n",
    "X1_df = pd.DataFrame(X1_cv.todense(), columns=cvec1.get_feature_names())\n",
    "X0_df = pd.DataFrame(X0_cv.todense(), columns=cvec0.get_feature_names())"
   ]
  },
  {
   "cell_type": "code",
   "execution_count": 49,
   "metadata": {},
   "outputs": [
    {
     "data": {
      "text/plain": [
       "social media             3\n",
       "challenges different     2\n",
       "website blocked          2\n",
       "getting want             2\n",
       "thing ll                 2\n",
       "written local            2\n",
       "thing stop               2\n",
       "world work               2\n",
       "world good               2\n",
       "work hardest             2\n",
       "good vs                  2\n",
       "distributed quite        2\n",
       "different distributed    2\n",
       "interview line           2\n",
       "happen minute            2\n",
       "dtype: int64"
      ]
     },
     "execution_count": 49,
     "metadata": {},
     "output_type": "execute_result"
    }
   ],
   "source": [
    "# 15 most common 'LifeProTips' bigrams\n",
    "X1_df.sum().sort_values(ascending=False).head(15)"
   ]
  },
  {
   "cell_type": "code",
   "execution_count": 50,
   "metadata": {},
   "outputs": [
    {
     "data": {
      "text/plain": [
       "rest life         2\n",
       "ketogenic diet    2\n",
       "bank mask         2\n",
       "holding make      2\n",
       "walk bank         2\n",
       "water feels       2\n",
       "make brush        2\n",
       "brush start       2\n",
       "scrolled phone    2\n",
       "pursue dreams     2\n",
       "keto diet         2\n",
       "johnny depp       2\n",
       "woman holding     2\n",
       "10 chance         2\n",
       "chance looks      2\n",
       "dtype: int64"
      ]
     },
     "execution_count": 50,
     "metadata": {},
     "output_type": "execute_result"
    }
   ],
   "source": [
    "# 15 most common 'Showerthoughts' bigrams\n",
    "X0_df.sum().sort_values(ascending=False).head(15)"
   ]
  },
  {
   "cell_type": "markdown",
   "metadata": {},
   "source": [
    "There is no obvious pattern in the most common bigrams."
   ]
  },
  {
   "cell_type": "markdown",
   "metadata": {},
   "source": [
    "### 2.7 Most common trigrams (misclassified posts)"
   ]
  },
  {
   "cell_type": "code",
   "execution_count": 51,
   "metadata": {},
   "outputs": [
    {
     "data": {
      "text/plain": [
       "CountVectorizer(ngram_range=(3, 3),\n",
       "                stop_words=['hence', 'fill', 'besides', 'thus', 'system',\n",
       "                            'alone', 'next', 'between', 'how', 'towards',\n",
       "                            'because', 'before', 'would', 'wherein', 'con',\n",
       "                            'now', 'her', 'once', 'above', 'fifteen', 'thru',\n",
       "                            'even', 'be', 'yours', 'an', 'co', 'off', 'put',\n",
       "                            'several', 'whatever', ...])"
      ]
     },
     "execution_count": 51,
     "metadata": {},
     "output_type": "execute_result"
    }
   ],
   "source": [
    "# Instantiate a CountVectorizer object, excluding stop_words\n",
    "cvec1 = CountVectorizer(stop_words = my_stopwords, ngram_range=(3,3))\n",
    "cvec0 = CountVectorizer(stop_words = my_stopwords, ngram_range=(3,3))\n",
    "\n",
    "# Fit the count vectorizer on the subreddit posts\n",
    "cvec1.fit(X1)\n",
    "cvec0.fit(X0)"
   ]
  },
  {
   "cell_type": "code",
   "execution_count": 52,
   "metadata": {},
   "outputs": [],
   "source": [
    "# Transform the corpus. Count Vectorizer transformer results in a sparse matrix (most things are zero), only keep non-zero elements\n",
    "X1_cv = cvec1.transform(X1)\n",
    "X0_cv = cvec0.transform(X0)\n",
    "\n",
    "# Store the transformed data\n",
    "X1_df = pd.DataFrame(X1_cv.todense(), columns=cvec1.get_feature_names())\n",
    "X0_df = pd.DataFrame(X0_cv.todense(), columns=cvec0.get_feature_names())"
   ]
  },
  {
   "cell_type": "code",
   "execution_count": 53,
   "metadata": {},
   "outputs": [
    {
     "data": {
      "text/plain": [
       "stop getting want            2\n",
       "life dying problem           2\n",
       "world work hardest           2\n",
       "world good vs                2\n",
       "work hardest thing           2\n",
       "people value challenges      2\n",
       "persuading people value      2\n",
       "interview line persuading    2\n",
       "want life dying              2\n",
       "video means man              2\n",
       "dtype: int64"
      ]
     },
     "execution_count": 53,
     "metadata": {},
     "output_type": "execute_result"
    }
   ],
   "source": [
    "# 10 most common 'LifeProTips' trigrams\n",
    "X1_df.sum().sort_values(ascending=False).head(10)"
   ]
  },
  {
   "cell_type": "code",
   "execution_count": 54,
   "metadata": {},
   "outputs": [
    {
     "data": {
      "text/plain": [
       "holding make brush      2\n",
       "10 chance looks         2\n",
       "walk bank mask          2\n",
       "woman holding make      2\n",
       "make brush start        2\n",
       "funny based wholly      1\n",
       "flashing neon open      1\n",
       "floor public won        1\n",
       "food subtract things    1\n",
       "forget ll know          1\n",
       "dtype: int64"
      ]
     },
     "execution_count": 54,
     "metadata": {},
     "output_type": "execute_result"
    }
   ],
   "source": [
    "# 10 most common 'Showerthoughts' trigrams\n",
    "X0_df.sum().sort_values(ascending=False).head(10)"
   ]
  },
  {
   "cell_type": "markdown",
   "metadata": {},
   "source": [
    "There is no obvious pattern in the most common trigrams."
   ]
  },
  {
   "cell_type": "markdown",
   "metadata": {},
   "source": [
    "## 3. Summary\n",
    "\n",
    "* 5 different models were evaluated:\n",
    "| Model | Transformer | Estimator |            Details           | Accuracy (train) | Accuracy (train) |\n",
    "|:-----:|:-----------:|:---------:|:----------------------------:|:----------------:|:----------------:|\n",
    "|   1   |  TfidfVect  |   LogReg  |    No pipe, 'lpt' stopword   |       0.926      |       0.852      |\n",
    "|   2   |  TfidfVect  |   LogReg  |     No pipe, no stopwords    |       0.955      |       0.903      |\n",
    "|   3   |  CountVect  |   LogReg  | GridSearchCV, 'lpt' stopword |       0.988      |       0.836      |\n",
    "|   4   |  TfidfVect  |   LogReg  | GridSearchCV, 'lpt' stopword |       0.917      |       0.844      |\n",
    "|   5   |  TfidfVect  |  LogRegCV | GridSearchCV, 'lpt' stopword |       0.951      |       0.840      |\n",
    "* The best LogisticRegression model was obtained using TfidfVectorizer and no other hyperparameter optimization. This resulted in a training accuracy of 92.6% and testing accuracy of 85.2%\n",
    "* In this model, 'your' is 10 times more important than the next most important word, which is 'don't. Each increase in 'your' makes a sentence 126 times more likely to be from LifeProTips\n",
    "* If the telltale indicator word 'LPT' was not ignored, each increase in 'LPT' means that the sentence is 25k times more likely to be from LifeProTips."
   ]
  },
  {
   "cell_type": "markdown",
   "metadata": {},
   "source": [
    "## Pickle the selected model"
   ]
  },
  {
   "cell_type": "markdown",
   "metadata": {},
   "source": [
    "Pickle the optimal model for use with other datasets."
   ]
  },
  {
   "cell_type": "code",
   "execution_count": 55,
   "metadata": {},
   "outputs": [],
   "source": [
    "with open('./models/subreddit_model1.pkl', mode='wb') as pickle_out:\n",
    "    pickle.dump(pipe, pickle_out) # first write pipe, then the open file itself"
   ]
  },
  {
   "cell_type": "code",
   "execution_count": null,
   "metadata": {},
   "outputs": [],
   "source": []
  }
 ],
 "metadata": {
  "kernelspec": {
   "display_name": "Python 3",
   "language": "python",
   "name": "python3"
  },
  "language_info": {
   "codemirror_mode": {
    "name": "ipython",
    "version": 3
   },
   "file_extension": ".py",
   "mimetype": "text/x-python",
   "name": "python",
   "nbconvert_exporter": "python",
   "pygments_lexer": "ipython3",
   "version": "3.8.5"
  }
 },
 "nbformat": 4,
 "nbformat_minor": 4
}
